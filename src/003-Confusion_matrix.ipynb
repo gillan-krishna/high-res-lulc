{
 "cells": [
  {
   "cell_type": "code",
   "execution_count": null,
   "metadata": {},
   "outputs": [],
   "source": [
    "from networks.UNet import LitUNet\n",
    "from lightning import Trainer\n",
    "from torch.nn.functional import softmax\n",
    "import os\n",
    "from skimage.io import imread\n",
    "import numpy as np\n",
    "import matplotlib.pyplot as plt\n",
    "import torch\n",
    "from glob import glob\n",
    "from data.dataset import OEMDataset\n",
    "from torch.utils.data import DataLoader\n",
    "from pathlib import Path"
   ]
  },
  {
   "cell_type": "code",
   "execution_count": null,
   "metadata": {},
   "outputs": [],
   "source": [
    "# map_location = {'cuda:0':'cpu'}\n",
    "ckpt_pth = glob('/home/ubuntu/hrl/high-res-lulc/.neptune/Untitled/LUL-47/checkpoints/*.ckpt')\n",
    "model = LitUNet.load_from_checkpoint(checkpoint_path=ckpt_pth[0], map_location='cpu')\n",
    "trainer = Trainer(accelerator='gpu',num_nodes=1)"
   ]
  },
  {
   "cell_type": "code",
   "execution_count": null,
   "metadata": {},
   "outputs": [],
   "source": [
    "DATA_DIR = \"/home/ubuntu/hrl/high-res-lulc/data/processing\"\n",
    "VAL_LIST = os.path.join(DATA_DIR, \"val.txt\")\n",
    "fns = [f for f in Path(DATA_DIR).rglob(\"*png\") if \"/images/\" in str(f)]\n",
    "val_list = [str(f)\n",
    "            for f in fns\n",
    "            if \"_\".join(f.name.split(\"_\")[:-2]) + \".tif\"\n",
    "            in np.loadtxt(VAL_LIST, dtype=str)\n",
    "        ]\n",
    "val_list= val_list[:5]"
   ]
  },
  {
   "cell_type": "code",
   "execution_count": null,
   "metadata": {},
   "outputs": [],
   "source": [
    "def pred_labels(trainer, dataloader):\n",
    "    preds = trainer.predict(model, dataloaders=dataloader)\n",
    "    # preds = torch.argmax(softmax(input=preds, dim=1), dim=1).permute(1,2,0).numpy()\n",
    "    print(len(preds))\n",
    "    \n",
    "    \n",
    "    return preds"
   ]
  },
  {
   "cell_type": "code",
   "execution_count": null,
   "metadata": {},
   "outputs": [],
   "source": [
    "\n",
    "OEM_pred = DataLoader(OEMDataset(img_list=val_list, testing=False, augm=None))"
   ]
  },
  {
   "cell_type": "code",
   "execution_count": null,
   "metadata": {},
   "outputs": [],
   "source": [
    "pred_labels = pred_labels(trainer=trainer, dataloader=OEM_pred)"
   ]
  },
  {
   "cell_type": "code",
   "execution_count": null,
   "metadata": {},
   "outputs": [],
   "source": []
  },
  {
   "cell_type": "code",
   "execution_count": null,
   "metadata": {},
   "outputs": [],
   "source": []
  }
 ],
 "metadata": {
  "kernelspec": {
   "display_name": "pytorch",
   "language": "python",
   "name": "python3"
  },
  "language_info": {
   "codemirror_mode": {
    "name": "ipython",
    "version": 3
   },
   "file_extension": ".py",
   "mimetype": "text/x-python",
   "name": "python",
   "nbconvert_exporter": "python",
   "pygments_lexer": "ipython3",
   "version": "3.10.13"
  }
 },
 "nbformat": 4,
 "nbformat_minor": 2
}
